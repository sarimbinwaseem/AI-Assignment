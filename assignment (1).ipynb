{
 "cells": [
  {
   "cell_type": "code",
   "execution_count": 1,
   "metadata": {},
   "outputs": [
    {
     "name": "stdout",
     "output_type": "stream",
     "text": [
      "Enter radius of circle: 6\n",
      "Area of Circle is: 113.112\n"
     ]
    }
   ],
   "source": [
    "#1\n",
    "radius = int(input(\"Enter radius of circle: \"))\n",
    "\n",
    "area = 3.142 * (radius*radius)\n",
    "\n",
    "print(\"Area of Circle is:\",area )"
   ]
  },
  {
   "cell_type": "code",
   "execution_count": 2,
   "metadata": {},
   "outputs": [
    {
     "name": "stdout",
     "output_type": "stream",
     "text": [
      "Enter any number: 5\n",
      "Enterd number is positive\n"
     ]
    }
   ],
   "source": [
    "#2\n",
    "num = int(input(\"Enter any number: \"))\n",
    "\n",
    "if num > 0:\n",
    "\tprint(\"Enterd number is positive\")\n",
    "\n",
    "if num < 0:\n",
    "\tprint(\"Enterd number is negative\")\n",
    "if num == 0:\n",
    "\tprint(\"Enterd number is zero\")"
   ]
  },
  {
   "cell_type": "code",
   "execution_count": 3,
   "metadata": {},
   "outputs": [
    {
     "name": "stdout",
     "output_type": "stream",
     "text": [
      "Enter 1st number: 6\n",
      "Enter 2nd number: 7\n",
      "1st number is not completely divisible by 2nd number...\n"
     ]
    }
   ],
   "source": [
    "#3 \n",
    "num1 = int(input(\"Enter 1st number: \"))\n",
    "num2 = int(input(\"Enter 2nd number: \"))\n",
    "\n",
    "if (num1 % num2) == 0:\n",
    "    print(\"1st number is completely divisible by 2nd number...\") \n",
    "\n",
    "if (num1 % num2) != 0:\n",
    "    print(\"1st number is not completely divisible by 2nd number...\")"
   ]
  },
  {
   "cell_type": "code",
   "execution_count": 4,
   "metadata": {},
   "outputs": [
    {
     "name": "stdout",
     "output_type": "stream",
     "text": [
      "Enter number: 5\n",
      "155\n"
     ]
    }
   ],
   "source": [
    "#4\n",
    "n = int(input(\"Enter number: \"))\n",
    "\n",
    "print(n + (n**2) + (n**3))\n"
   ]
  },
  {
   "cell_type": "code",
   "execution_count": 5,
   "metadata": {},
   "outputs": [
    {
     "name": "stdout",
     "output_type": "stream",
     "text": [
      "Enter date: 23\n",
      "Enter date: 12\n",
      "11\n"
     ]
    }
   ],
   "source": [
    "#5\n",
    "date1 = int(input(\"Enter date: \"))\n",
    "date2 = int(input(\"Enter date: \"))\n",
    "\n",
    "if date1 > 31 or date2 > 31:\n",
    "\tprint(\"Enter a valid date..!!\")\n",
    "else:\t\n",
    "\tif date1 > date2:\n",
    "\t\tprint(date1 - date2)\n",
    "\tif date2 > date1:\n",
    "\t\tprint(date2 - date1)\n",
    "\tif date1 == date2:\n",
    "\t\tprint(\"0\")"
   ]
  },
  {
   "cell_type": "code",
   "execution_count": 6,
   "metadata": {},
   "outputs": [
    {
     "name": "stdout",
     "output_type": "stream",
     "text": [
      "Enter radius of sphere: 6\n",
      "Volume of sphere is 904.9\n"
     ]
    }
   ],
   "source": [
    "#6\n",
    "radius = int(input(\"Enter radius of sphere: \"))\n",
    "\n",
    "print(\"Volume of sphere is\", round(((4/3)*(3.142)*(radius**3)), 2))"
   ]
  },
  {
   "cell_type": "code",
   "execution_count": 7,
   "metadata": {},
   "outputs": [
    {
     "name": "stdout",
     "output_type": "stream",
     "text": [
      "Enter number: 78\n",
      "61\n"
     ]
    }
   ],
   "source": [
    "num1 = int(input(\"Enter number: \"))\n",
    "num2 = 17\n",
    "\n",
    "\n",
    "if num1 > num2:\n",
    "\tprint(num1 - num2)\n",
    "if num2 > num1:\n",
    "\tprint(num2 - num1)\n",
    "if num1 == num2:\n",
    "\tprint(\"0\")\n",
    "\t"
   ]
  },
  {
   "cell_type": "code",
   "execution_count": 8,
   "metadata": {},
   "outputs": [
    {
     "name": "stdout",
     "output_type": "stream",
     "text": [
      "Enter a number: 88\n",
      "Number is even\n"
     ]
    }
   ],
   "source": [
    "number = int(input(\"Enter a number: \"))\n",
    "\n",
    "if number % 2 == 0:\n",
    "\tprint(\"Number is even\")\n",
    "if number % 2 != 0:\n",
    "\tprint(\"Number is odd\")"
   ]
  },
  {
   "cell_type": "code",
   "execution_count": 9,
   "metadata": {},
   "outputs": [
    {
     "name": "stdout",
     "output_type": "stream",
     "text": [
      "Enter base of triangle: 90\n",
      "Enter altitude of triangle: 3\n",
      "Area of triangle is: 12150.0\n"
     ]
    }
   ],
   "source": [
    "base = int(input(\"Enter base of triangle: \"))\n",
    "alt = int(input(\"Enter altitude of triangle: \"))\n",
    "\n",
    "area = (1/2)*(alt)*(base**2) \n",
    "print(\"Area of triangle is:\",area)"
   ]
  },
  {
   "cell_type": "code",
   "execution_count": 10,
   "metadata": {},
   "outputs": [
    {
     "name": "stdout",
     "output_type": "stream",
     "text": [
      "Enter number: 6\n",
      "Enter number: 5\n",
      "False\n"
     ]
    }
   ],
   "source": [
    "num1 = int(input(\"Enter number: \"))\n",
    "num2 = int(input(\"Enter number: \"))\n",
    "\n",
    "\n",
    "if num1 == num2 or (num1 + num2) == 5 or (num1 - num2) == 5:\n",
    "\tprint(\"True\")\n",
    "else:\n",
    "\tprint(\"False\")"
   ]
  },
  {
   "cell_type": "code",
   "execution_count": 11,
   "metadata": {},
   "outputs": [
    {
     "name": "stdout",
     "output_type": "stream",
     "text": [
      "Enter x: 4\n",
      "Enter y: 5\n",
      "Answer is: 81\n"
     ]
    }
   ],
   "source": [
    "x = int(input(\"Enter x: \"))\n",
    "y = int(input(\"Enter y: \"))\n",
    "\n",
    "\n",
    "z = x+y\n",
    "\n",
    "print(\"Answer is:\", (z**2))"
   ]
  },
  {
   "cell_type": "code",
   "execution_count": 12,
   "metadata": {},
   "outputs": [
    {
     "name": "stdout",
     "output_type": "stream",
     "text": [
      "Enter Enter length in feet: 67\n",
      "The answer is: 2042.16\n"
     ]
    }
   ],
   "source": [
    "#1ft = 30.48 cm\n",
    "\n",
    "ft = float(input(\"Enter Enter length in feet: \"))\n",
    "\n",
    "cm = ft*30.48\n",
    "\n",
    "print(\"The answer is:\", round(cm, 2) )"
   ]
  },
  {
   "cell_type": "code",
   "execution_count": 14,
   "metadata": {},
   "outputs": [
    {
     "name": "stdout",
     "output_type": "stream",
     "text": [
      "Enter Enter length in feet: 77\n",
      "In inches: 924.0\n",
      "In yards: 25.666666666666668\n",
      "In miles: 0.015\n"
     ]
    }
   ],
   "source": [
    "#1ft = 30.48 cm\n",
    "\n",
    "ft = float(input(\"Enter Enter length in feet: \"))\n",
    "\n",
    "inch = ft*12\n",
    "yard = ft/3\n",
    "mile = ft/5280\n",
    "\n",
    "print(\"In inches:\",inch)\n",
    "print(\"In yards:\",yard)\n",
    "print(\"In miles:\",round(mile,3))"
   ]
  },
  {
   "cell_type": "code",
   "execution_count": 1,
   "metadata": {},
   "outputs": [
    {
     "name": "stdout",
     "output_type": "stream",
     "text": [
      "Enter letter: y\n",
      "Not a vowel....\n"
     ]
    }
   ],
   "source": [
    "char = input(\"Enter letter: \")\n",
    "\n",
    "vowels = ['a','e','i','o','u']\n",
    "leng = len(vowels)\n",
    "for x in range(leng):\n",
    "\tif char ==vowels[x]:\n",
    "\t\tprint(\"This letter is vowel...\")\n",
    "\t\tbreak\n",
    "\telse:\n",
    "\t\tprint(\"Not a vowel....\")\n",
    "\t\tbreak\n",
    "\n"
   ]
  },
  {
   "cell_type": "code",
   "execution_count": 2,
   "metadata": {},
   "outputs": [
    {
     "name": "stdout",
     "output_type": "stream",
     "text": [
      "Enter first X co-ordinate: 99\n",
      "Enter first Y co-ordinate: 56\n",
      "Enter second X co-ordinate: 434\n",
      "Enter second Y co-ordinate: 2\n",
      "Distance between points is: 339.324\n"
     ]
    }
   ],
   "source": [
    "import math\n",
    "x1 = float(input(\"Enter first X co-ordinate: \"))\n",
    "y1 = float(input(\"Enter first Y co-ordinate: \"))\n",
    "x2 = float(input(\"Enter second X co-ordinate: \"))\n",
    "y2 = float(input(\"Enter second Y co-ordinate: \"))\n",
    "\n",
    "distance = math.sqrt((((x2-x1)**2)+((y2-y1)**2)))\n",
    "\n",
    "print(\"Distance between points is:\",round(distance, 3))"
   ]
  },
  {
   "cell_type": "code",
   "execution_count": 3,
   "metadata": {},
   "outputs": [
    {
     "name": "stdout",
     "output_type": "stream",
     "text": [
      "Enter perpendicular: 44\n",
      "Enter Base: 3\n",
      "Hypotenuse of triangle is: 44.102\n"
     ]
    }
   ],
   "source": [
    "import math\n",
    "perp = int(input(\"Enter perpendicular: \"))\n",
    "base = int(input(\"Enter Base: \"))\n",
    "\n",
    "hyp = math.sqrt((perp**2)+(base**2))\n",
    "\n",
    "print(\"Hypotenuse of triangle is:\",round(hyp,3))"
   ]
  },
  {
   "cell_type": "code",
   "execution_count": 4,
   "metadata": {},
   "outputs": [
    {
     "name": "stdout",
     "output_type": "stream",
     "text": [
      "Enter Enter length in feet: 4\n",
      "In inches: 48.0\n",
      "In yards: 1.3333333333333333\n",
      "In miles: 0.001\n"
     ]
    }
   ],
   "source": [
    "#1ft = 30.48 cm\n",
    "\n",
    "ft = float(input(\"Enter Enter length in feet: \"))\n",
    "\n",
    "inch = ft*12\n",
    "yard = ft/3\n",
    "mile = ft/5280\n",
    "\n",
    "print(\"In inches:\",inch)\n",
    "print(\"In yards:\",yard)\n",
    "print(\"In miles:\",round(mile,3))"
   ]
  },
  {
   "cell_type": "code",
   "execution_count": 6,
   "metadata": {},
   "outputs": [
    {
     "name": "stdout",
     "output_type": "stream",
     "text": [
      "Enter time duration in MilliSecond: 6744\n",
      "Enter time duration in MicroSecond: 3453\n",
      "Enter time duration in Minute: 56\n",
      "Enter time duration in Hour: 3\n",
      "================================================\n",
      "================================================\n",
      "From MilliSecond to Second: 6.744\n",
      "From MicroSecond to Second: 34.53\n",
      "From Minute to Second: 3360\n",
      "From Hour to Second: 0.0008333333333333334\n"
     ]
    }
   ],
   "source": [
    "#convert all time units in Seconds\n",
    "\n",
    "millisec = int(input(\"Enter time duration in MilliSecond: \"))\n",
    "microsec = int(input(\"Enter time duration in MicroSecond: \"))\n",
    "mint = int(input(\"Enter time duration in Minute: \"))\n",
    "hour = int(input(\"Enter time duration in Hour: \"))\n",
    "\n",
    "print(\"================================================\")\n",
    "print(\"================================================\")\n",
    "print(\"From MilliSecond to Second:\", millisec/1000)\n",
    "print(\"From MicroSecond to Second:\", microsec/100)\n",
    "print(\"From Minute to Second:\", mint*60)\n",
    "print(\"From Hour to Second:\", hour/3600)"
   ]
  },
  {
   "cell_type": "code",
   "execution_count": 7,
   "metadata": {},
   "outputs": [
    {
     "name": "stdout",
     "output_type": "stream",
     "text": [
      "Enter your weight in KG: 50\n",
      "Enter your height in cm: 170\n",
      "--------------------\n",
      "Your BMI is: 17.301038062283737\n",
      "--------------------\n",
      "You are underweight\n"
     ]
    }
   ],
   "source": [
    "weight = int(input(\"Enter your weight in KG: \"))\n",
    "height = int(input(\"Enter your height in cm: \"))/100\n",
    "\n",
    "bmi = weight/(height**2)\n",
    "\n",
    "print(\"--------------------\")\n",
    "print(\"Your BMI is:\",bmi)\n",
    "print(\"--------------------\")\n",
    "\n",
    "if bmi < 15:\n",
    "\tprint(\"You are very severely underweight!!!!\")\n",
    "elif bmi <= 16:\n",
    "\tprint(\"You are severely underweight!!!!\")\n",
    "\n",
    "elif bmi <= 18.5:\n",
    "\tprint(\"You are underweight\")\n",
    "\n",
    "elif bmi <= 25:\n",
    "\tprint(\"Normal..\")\n",
    "elif bmi <= 30:\n",
    "\tprint(\"You are overweight\")\n",
    "\n",
    "elif bmi <= 35:\n",
    "\tprint(\"Moderately obese\")\n",
    "elif bmi <= 40:\n",
    "\tprint(\"severely obese\")\n",
    "elif bmi > 40:\n",
    "\tprint(\"Very severely obese\")"
   ]
  },
  {
   "cell_type": "code",
   "execution_count": 8,
   "metadata": {},
   "outputs": [
    {
     "name": "stdout",
     "output_type": "stream",
     "text": [
      "Enter temperature in Celcius: 35\n",
      "Enter temperature in Fahrenheit: 99\n",
      "\n",
      "---------------------------------\n",
      "Temperature in Fahrenheit: 95.0\n",
      "---------------------------------\n",
      "Temperature in Celcius: 37.22\n"
     ]
    }
   ],
   "source": [
    "celcius = int(input(\"Enter temperature in Celcius: \"))\n",
    "fahrenheit = int(input(\"Enter temperature in Fahrenheit: \"))\n",
    "\n",
    "fah = ((celcius * (9/5)) +32)\n",
    "cel = (fahrenheit - 32) * (5/9)\n",
    "print(\"\")\n",
    "print(\"---------------------------------\")\n",
    "print(\"Temperature in Fahrenheit:\", round(fah, 2))\n",
    "print(\"---------------------------------\")\n",
    "print(\"Temperature in Celcius:\", round(cel, 2))"
   ]
  },
  {
   "cell_type": "code",
   "execution_count": 9,
   "metadata": {},
   "outputs": [
    {
     "name": "stdout",
     "output_type": "stream",
     "text": [
      "Enter range to calculate sum of +ve integers: 9000\n",
      "Total sum: 20245500\n"
     ]
    }
   ],
   "source": [
    "num = int(input(\"Enter range to calculate sum of +ve integers: \"))\n",
    "sm = 0\n",
    "\n",
    "for nm in range(num):\n",
    "\tif nm % 2 == 0:\n",
    "\t\tsm += nm\n",
    "print(\"Total sum:\",sm)\n"
   ]
  },
  {
   "cell_type": "code",
   "execution_count": 10,
   "metadata": {},
   "outputs": [
    {
     "name": "stdout",
     "output_type": "stream",
     "text": [
      "Enter the number to be tabled:78\n",
      "78 * 1=78\n",
      "78 * 2=156\n",
      "78 * 3=234\n",
      "78 * 4=312\n",
      "78 * 5=390\n",
      "78 * 6=468\n",
      "78 * 7=546\n",
      "78 * 8=624\n",
      "78 * 9=702\n",
      "78 * 10=780\n"
     ]
    }
   ],
   "source": [
    "#39\n",
    "num = int(input(\"Enter the number to be tabled:\"))\n",
    "\n",
    "for t in range(1, 11):\n",
    "\tmult = num*t\n",
    "\tprint(str(num) + \" * \" + str(t) + \"=\" + str(mult))"
   ]
  },
  {
   "cell_type": "code",
   "execution_count": 11,
   "metadata": {},
   "outputs": [
    {
     "name": "stdout",
     "output_type": "stream",
     "text": [
      "Enter 1st number for GCD:89\n",
      "Enter 2nd number for GCD:90\n",
      "GCD of given numbers is: 1\n"
     ]
    }
   ],
   "source": [
    "#31\n",
    "import math\n",
    "num1 = int(input(\"Enter 1st number for GCD:\"))\n",
    "num2 = int(input(\"Enter 2nd number for GCD:\"))\n",
    "\n",
    "gcd = math.gcd(num1, num2)\n",
    "\n",
    "print(\"GCD of given numbers is:\",gcd)"
   ]
  },
  {
   "cell_type": "code",
   "execution_count": 12,
   "metadata": {},
   "outputs": [
    {
     "name": "stdout",
     "output_type": "stream",
     "text": [
      "Enter 1st number for LCM:66\n",
      "Enter 2nd number for LCM:43\n",
      "2838\n"
     ]
    }
   ],
   "source": [
    "#32\n",
    "x = int(input(\"Enter 1st number for LCM:\"))\n",
    "y = int(input(\"Enter 2nd number for LCM:\"))\n",
    "if x > y:\n",
    "    greater = x\n",
    "else:\n",
    "    greater = y\n",
    "\n",
    "while(True):\n",
    "    if((greater % x == 0) and (greater % y == 0)):\n",
    "        lcm = greater\n",
    "        break\n",
    "    greater += 1\n",
    "print(lcm)"
   ]
  },
  {
   "cell_type": "code",
   "execution_count": 1,
   "metadata": {},
   "outputs": [
    {
     "name": "stdout",
     "output_type": "stream",
     "text": [
      "Enter your first name:Sarim\n",
      "Enter your last name:Bin Waseem\n",
      "The reversed string(using loops) is : meesaW niB miraS\n"
     ]
    }
   ],
   "source": [
    "#33\n",
    "fname = input(\"Enter your first name:\")\n",
    "lname = input(\"Enter your last name:\")\n",
    "str = \"\" \n",
    "str2 = \"\"\n",
    "for i in lname: \n",
    "\tstr = i + str\n",
    "lname = str  \n",
    "for i in fname: \n",
    "   \tstr2 = i + str2\n",
    "fname = str2  \n",
    "\n",
    "name = lname + \" \" + fname \n",
    "  \n",
    "print (\"The reversed string(using loops) is : \",end=\"\") \n",
    "print (name)"
   ]
  },
  {
   "cell_type": "code",
   "execution_count": 2,
   "metadata": {},
   "outputs": [
    {
     "name": "stdout",
     "output_type": "stream",
     "text": [
      "Enter string to calculate vowels in it: The Quick Brown Fox Jumps Over the Lazy dog\n",
      "A vowel found: e\n",
      "A vowel found: u\n",
      "A vowel found: i\n",
      "A vowel found: o\n",
      "A vowel found: o\n",
      "A vowel found: u\n",
      "A vowel found: e\n",
      "A vowel found: e\n",
      "A vowel found: a\n",
      "A vowel found: o\n",
      "Total vowels found: 10\n"
     ]
    }
   ],
   "source": [
    "#34\n",
    "txt = input(\"Enter string to calculate vowels in it: \")\n",
    "\n",
    "word = list(txt)\n",
    "x =0\n",
    "for w in word:\n",
    "\tif w == 'a' or w == 'e' or w == 'i' or w == 'o' or w == 'u':\n",
    "\t\tprint(\"A vowel found: \",end=\"\")\n",
    "\t\tprint(w)\n",
    "\t\tx += 1\n",
    "if x == 0:\n",
    "\tprint(\"No Vowel found...!!!\")\n",
    "\n",
    "print(\"Total vowels found:\", x)\n",
    "\t"
   ]
  },
  {
   "cell_type": "code",
   "execution_count": 4,
   "metadata": {},
   "outputs": [
    {
     "name": "stdout",
     "output_type": "stream",
     "text": [
      "Enter word to check for Palindrome: nursesrun\n",
      "This word is palindrome...!!!\n"
     ]
    }
   ],
   "source": [
    "#36\n",
    "word  = input(\"Enter word to check for Palindrome: \")\n",
    "\n",
    "str = \"\" \n",
    "for i in word: \n",
    "\tstr = i + str\n",
    "pal = str\n",
    "if word == pal:\n",
    "\tprint(\"This word is palindrome...!!!\")\n",
    "else:\n",
    "\tprint(\"Not a palindrome...\")"
   ]
  },
  {
   "cell_type": "code",
   "execution_count": 5,
   "metadata": {},
   "outputs": [
    {
     "name": "stdout",
     "output_type": "stream",
     "text": [
      "\n",
      "Enter the number to be reversed, add to original and be checked for palindrome: 9800\n"
     ]
    },
    {
     "ename": "TypeError",
     "evalue": "'str' object is not callable",
     "output_type": "error",
     "traceback": [
      "\u001b[1;31m---------------------------------------------------------------------------\u001b[0m",
      "\u001b[1;31mTypeError\u001b[0m                                 Traceback (most recent call last)",
      "\u001b[1;32m<ipython-input-5-00389085f577>\u001b[0m in \u001b[0;36m<module>\u001b[1;34m\u001b[0m\n\u001b[0;32m      4\u001b[0m \u001b[0mo_number\u001b[0m \u001b[1;33m=\u001b[0m \u001b[0mint\u001b[0m\u001b[1;33m(\u001b[0m\u001b[0minput\u001b[0m\u001b[1;33m(\u001b[0m\u001b[1;34m\"Enter the number to be reversed, add to original and be checked for palindrome: \"\u001b[0m\u001b[1;33m)\u001b[0m\u001b[1;33m)\u001b[0m\u001b[1;33m\u001b[0m\u001b[1;33m\u001b[0m\u001b[0m\n\u001b[0;32m      5\u001b[0m \u001b[1;31m#reversing number..\u001b[0m\u001b[1;33m\u001b[0m\u001b[1;33m\u001b[0m\u001b[1;33m\u001b[0m\u001b[0m\n\u001b[1;32m----> 6\u001b[1;33m \u001b[0mnumber\u001b[0m \u001b[1;33m=\u001b[0m \u001b[0mint\u001b[0m\u001b[1;33m(\u001b[0m\u001b[0mstr\u001b[0m\u001b[1;33m(\u001b[0m\u001b[0mo_number\u001b[0m\u001b[1;33m)\u001b[0m\u001b[1;33m[\u001b[0m\u001b[1;33m:\u001b[0m\u001b[1;33m:\u001b[0m\u001b[1;33m-\u001b[0m\u001b[1;36m1\u001b[0m\u001b[1;33m]\u001b[0m\u001b[1;33m)\u001b[0m\u001b[1;33m\u001b[0m\u001b[1;33m\u001b[0m\u001b[0m\n\u001b[0m\u001b[0;32m      7\u001b[0m \u001b[1;33m\u001b[0m\u001b[0m\n\u001b[0;32m      8\u001b[0m \u001b[1;31m#adding original and reversed number..\u001b[0m\u001b[1;33m\u001b[0m\u001b[1;33m\u001b[0m\u001b[1;33m\u001b[0m\u001b[0m\n",
      "\u001b[1;31mTypeError\u001b[0m: 'str' object is not callable"
     ]
    }
   ],
   "source": [
    "#37 NOT WORKING IN JUPYTER NOTEBOOK BUT WORKS IN CMD\n",
    "#taking input\n",
    "print(\"\")\n",
    "o_number = int(input(\"Enter the number to be reversed, add to original and be checked for palindrome: \"))\n",
    "#reversing number..\n",
    "number = int(str(o_number)[::-1])\n",
    "\n",
    "#adding original and reversed number..\n",
    "a_number = str(o_number + number)\n",
    "\n",
    "#checking for Plaindrome\n",
    "str = \"\" \n",
    "for i in a_number: \n",
    "\tstr = i + str\n",
    "pal = str\n",
    "print(\"\")\n",
    "if a_number == pal:\n",
    "\tprint(\"The answer is palindrome...!!!\")\n",
    "else:\n",
    "\tprint(\"Not a palindrome...\")"
   ]
  },
  {
   "cell_type": "code",
   "execution_count": null,
   "metadata": {},
   "outputs": [],
   "source": []
  },
  {
   "cell_type": "code",
   "execution_count": null,
   "metadata": {},
   "outputs": [],
   "source": []
  }
 ],
 "metadata": {
  "kernelspec": {
   "display_name": "Python 3",
   "language": "python",
   "name": "python3"
  },
  "language_info": {
   "codemirror_mode": {
    "name": "ipython",
    "version": 3
   },
   "file_extension": ".py",
   "mimetype": "text/x-python",
   "name": "python",
   "nbconvert_exporter": "python",
   "pygments_lexer": "ipython3",
   "version": "3.7.3"
  }
 },
 "nbformat": 4,
 "nbformat_minor": 2
}
